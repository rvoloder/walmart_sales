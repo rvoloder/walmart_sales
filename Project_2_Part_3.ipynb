{
  "nbformat": 4,
  "nbformat_minor": 0,
  "metadata": {
    "colab": {
      "name": "Project 2 Part 3.ipynb",
      "provenance": [],
      "collapsed_sections": [],
      "authorship_tag": "ABX9TyNVIsTkqQdkhRI7v3sP2EL7",
      "include_colab_link": true
    },
    "kernelspec": {
      "name": "python3",
      "display_name": "Python 3"
    },
    "language_info": {
      "name": "python"
    }
  },
  "cells": [
    {
      "cell_type": "markdown",
      "metadata": {
        "id": "view-in-github",
        "colab_type": "text"
      },
      "source": [
        "<a href=\"https://colab.research.google.com/github/rvoloder/walmart_sales/blob/main/Project_2_Part_3.ipynb\" target=\"_parent\"><img src=\"https://colab.research.google.com/assets/colab-badge.svg\" alt=\"Open In Colab\"/></a>"
      ]
    },
    {
      "cell_type": "code",
      "execution_count": 3,
      "metadata": {
        "id": "Gxz8OXSdyqG0"
      },
      "outputs": [],
      "source": [
        "import pandas as pd\n",
        "import numpy as np\n",
        "import matplotlib.pyplot as plt\n",
        "import seaborn as sns"
      ]
    },
    {
      "cell_type": "markdown",
      "source": [
        "1. Source of data: Kaggle"
      ],
      "metadata": {
        "id": "S97Dq7B6_GIs"
      }
    },
    {
      "cell_type": "markdown",
      "source": [
        "2. Brief Description of Data: Walmart Weekly Retail Sales (based on a variety of components - holidays, temperature, unemployment rate etc.)"
      ],
      "metadata": {
        "id": "H2wIIP4q_IxR"
      }
    },
    {
      "cell_type": "markdown",
      "source": [
        "3. Target: Weekly Sales"
      ],
      "metadata": {
        "id": "U0CdLISt_abc"
      }
    },
    {
      "cell_type": "markdown",
      "source": [
        "4. This is a regression problem."
      ],
      "metadata": {
        "id": "4GpfqRYC_T32"
      }
    },
    {
      "cell_type": "markdown",
      "source": [
        "5. Number of Features: 8"
      ],
      "metadata": {
        "id": "_WrjlLfR_uUL"
      }
    },
    {
      "cell_type": "markdown",
      "source": [
        "6. Number of Rows: 6435"
      ],
      "metadata": {
        "id": "vSCR8t-8Bv32"
      }
    },
    {
      "cell_type": "markdown",
      "source": [
        "7. What if any challenges: The dataset looks like a very nice machine learning dataset. As of now, I see no forseeable challenges."
      ],
      "metadata": {
        "id": "gNVCZuKiB6k4"
      }
    },
    {
      "cell_type": "code",
      "source": [
        "df = pd.read_csv('/content/Walmart.csv')\n",
        "df.head()"
      ],
      "metadata": {
        "colab": {
          "base_uri": "https://localhost:8080/",
          "height": 204
        },
        "id": "O6G7CnCdABEq",
        "outputId": "32f85fd8-9d96-4c8c-9b6f-a06cc4375ecd"
      },
      "execution_count": 4,
      "outputs": [
        {
          "output_type": "execute_result",
          "data": {
            "text/plain": [
              "   Store        Date  Weekly_Sales  Holiday_Flag  Temperature  Fuel_Price  \\\n",
              "0      1  05-02-2010    1643690.90             0        42.31       2.572   \n",
              "1      1  12-02-2010    1641957.44             1        38.51       2.548   \n",
              "2      1  19-02-2010    1611968.17             0        39.93       2.514   \n",
              "3      1  26-02-2010    1409727.59             0        46.63       2.561   \n",
              "4      1  05-03-2010    1554806.68             0        46.50       2.625   \n",
              "\n",
              "          CPI  Unemployment  \n",
              "0  211.096358         8.106  \n",
              "1  211.242170         8.106  \n",
              "2  211.289143         8.106  \n",
              "3  211.319643         8.106  \n",
              "4  211.350143         8.106  "
            ],
            "text/html": [
              "\n",
              "  <div id=\"df-a6b14f32-b2a4-4bf9-ba77-c4b4fba59886\">\n",
              "    <div class=\"colab-df-container\">\n",
              "      <div>\n",
              "<style scoped>\n",
              "    .dataframe tbody tr th:only-of-type {\n",
              "        vertical-align: middle;\n",
              "    }\n",
              "\n",
              "    .dataframe tbody tr th {\n",
              "        vertical-align: top;\n",
              "    }\n",
              "\n",
              "    .dataframe thead th {\n",
              "        text-align: right;\n",
              "    }\n",
              "</style>\n",
              "<table border=\"1\" class=\"dataframe\">\n",
              "  <thead>\n",
              "    <tr style=\"text-align: right;\">\n",
              "      <th></th>\n",
              "      <th>Store</th>\n",
              "      <th>Date</th>\n",
              "      <th>Weekly_Sales</th>\n",
              "      <th>Holiday_Flag</th>\n",
              "      <th>Temperature</th>\n",
              "      <th>Fuel_Price</th>\n",
              "      <th>CPI</th>\n",
              "      <th>Unemployment</th>\n",
              "    </tr>\n",
              "  </thead>\n",
              "  <tbody>\n",
              "    <tr>\n",
              "      <th>0</th>\n",
              "      <td>1</td>\n",
              "      <td>05-02-2010</td>\n",
              "      <td>1643690.90</td>\n",
              "      <td>0</td>\n",
              "      <td>42.31</td>\n",
              "      <td>2.572</td>\n",
              "      <td>211.096358</td>\n",
              "      <td>8.106</td>\n",
              "    </tr>\n",
              "    <tr>\n",
              "      <th>1</th>\n",
              "      <td>1</td>\n",
              "      <td>12-02-2010</td>\n",
              "      <td>1641957.44</td>\n",
              "      <td>1</td>\n",
              "      <td>38.51</td>\n",
              "      <td>2.548</td>\n",
              "      <td>211.242170</td>\n",
              "      <td>8.106</td>\n",
              "    </tr>\n",
              "    <tr>\n",
              "      <th>2</th>\n",
              "      <td>1</td>\n",
              "      <td>19-02-2010</td>\n",
              "      <td>1611968.17</td>\n",
              "      <td>0</td>\n",
              "      <td>39.93</td>\n",
              "      <td>2.514</td>\n",
              "      <td>211.289143</td>\n",
              "      <td>8.106</td>\n",
              "    </tr>\n",
              "    <tr>\n",
              "      <th>3</th>\n",
              "      <td>1</td>\n",
              "      <td>26-02-2010</td>\n",
              "      <td>1409727.59</td>\n",
              "      <td>0</td>\n",
              "      <td>46.63</td>\n",
              "      <td>2.561</td>\n",
              "      <td>211.319643</td>\n",
              "      <td>8.106</td>\n",
              "    </tr>\n",
              "    <tr>\n",
              "      <th>4</th>\n",
              "      <td>1</td>\n",
              "      <td>05-03-2010</td>\n",
              "      <td>1554806.68</td>\n",
              "      <td>0</td>\n",
              "      <td>46.50</td>\n",
              "      <td>2.625</td>\n",
              "      <td>211.350143</td>\n",
              "      <td>8.106</td>\n",
              "    </tr>\n",
              "  </tbody>\n",
              "</table>\n",
              "</div>\n",
              "      <button class=\"colab-df-convert\" onclick=\"convertToInteractive('df-a6b14f32-b2a4-4bf9-ba77-c4b4fba59886')\"\n",
              "              title=\"Convert this dataframe to an interactive table.\"\n",
              "              style=\"display:none;\">\n",
              "        \n",
              "  <svg xmlns=\"http://www.w3.org/2000/svg\" height=\"24px\"viewBox=\"0 0 24 24\"\n",
              "       width=\"24px\">\n",
              "    <path d=\"M0 0h24v24H0V0z\" fill=\"none\"/>\n",
              "    <path d=\"M18.56 5.44l.94 2.06.94-2.06 2.06-.94-2.06-.94-.94-2.06-.94 2.06-2.06.94zm-11 1L8.5 8.5l.94-2.06 2.06-.94-2.06-.94L8.5 2.5l-.94 2.06-2.06.94zm10 10l.94 2.06.94-2.06 2.06-.94-2.06-.94-.94-2.06-.94 2.06-2.06.94z\"/><path d=\"M17.41 7.96l-1.37-1.37c-.4-.4-.92-.59-1.43-.59-.52 0-1.04.2-1.43.59L10.3 9.45l-7.72 7.72c-.78.78-.78 2.05 0 2.83L4 21.41c.39.39.9.59 1.41.59.51 0 1.02-.2 1.41-.59l7.78-7.78 2.81-2.81c.8-.78.8-2.07 0-2.86zM5.41 20L4 18.59l7.72-7.72 1.47 1.35L5.41 20z\"/>\n",
              "  </svg>\n",
              "      </button>\n",
              "      \n",
              "  <style>\n",
              "    .colab-df-container {\n",
              "      display:flex;\n",
              "      flex-wrap:wrap;\n",
              "      gap: 12px;\n",
              "    }\n",
              "\n",
              "    .colab-df-convert {\n",
              "      background-color: #E8F0FE;\n",
              "      border: none;\n",
              "      border-radius: 50%;\n",
              "      cursor: pointer;\n",
              "      display: none;\n",
              "      fill: #1967D2;\n",
              "      height: 32px;\n",
              "      padding: 0 0 0 0;\n",
              "      width: 32px;\n",
              "    }\n",
              "\n",
              "    .colab-df-convert:hover {\n",
              "      background-color: #E2EBFA;\n",
              "      box-shadow: 0px 1px 2px rgba(60, 64, 67, 0.3), 0px 1px 3px 1px rgba(60, 64, 67, 0.15);\n",
              "      fill: #174EA6;\n",
              "    }\n",
              "\n",
              "    [theme=dark] .colab-df-convert {\n",
              "      background-color: #3B4455;\n",
              "      fill: #D2E3FC;\n",
              "    }\n",
              "\n",
              "    [theme=dark] .colab-df-convert:hover {\n",
              "      background-color: #434B5C;\n",
              "      box-shadow: 0px 1px 3px 1px rgba(0, 0, 0, 0.15);\n",
              "      filter: drop-shadow(0px 1px 2px rgba(0, 0, 0, 0.3));\n",
              "      fill: #FFFFFF;\n",
              "    }\n",
              "  </style>\n",
              "\n",
              "      <script>\n",
              "        const buttonEl =\n",
              "          document.querySelector('#df-a6b14f32-b2a4-4bf9-ba77-c4b4fba59886 button.colab-df-convert');\n",
              "        buttonEl.style.display =\n",
              "          google.colab.kernel.accessAllowed ? 'block' : 'none';\n",
              "\n",
              "        async function convertToInteractive(key) {\n",
              "          const element = document.querySelector('#df-a6b14f32-b2a4-4bf9-ba77-c4b4fba59886');\n",
              "          const dataTable =\n",
              "            await google.colab.kernel.invokeFunction('convertToInteractive',\n",
              "                                                     [key], {});\n",
              "          if (!dataTable) return;\n",
              "\n",
              "          const docLinkHtml = 'Like what you see? Visit the ' +\n",
              "            '<a target=\"_blank\" href=https://colab.research.google.com/notebooks/data_table.ipynb>data table notebook</a>'\n",
              "            + ' to learn more about interactive tables.';\n",
              "          element.innerHTML = '';\n",
              "          dataTable['output_type'] = 'display_data';\n",
              "          await google.colab.output.renderOutput(dataTable, element);\n",
              "          const docLink = document.createElement('div');\n",
              "          docLink.innerHTML = docLinkHtml;\n",
              "          element.appendChild(docLink);\n",
              "        }\n",
              "      </script>\n",
              "    </div>\n",
              "  </div>\n",
              "  "
            ]
          },
          "metadata": {},
          "execution_count": 4
        }
      ]
    },
    {
      "cell_type": "code",
      "source": [
        "df.shape"
      ],
      "metadata": {
        "colab": {
          "base_uri": "https://localhost:8080/"
        },
        "id": "sc8pKrZKBzNU",
        "outputId": "aa035b01-8e96-4716-9730-8eb9c926f43e"
      },
      "execution_count": 5,
      "outputs": [
        {
          "output_type": "execute_result",
          "data": {
            "text/plain": [
              "(6435, 8)"
            ]
          },
          "metadata": {},
          "execution_count": 5
        }
      ]
    },
    {
      "cell_type": "markdown",
      "source": [
        "# Initial Analysis:"
      ],
      "metadata": {
        "id": "AVoHqYRURIw4"
      }
    },
    {
      "cell_type": "markdown",
      "source": [
        "From the data above, we can already determine that the target column we will be attempting to predict is \"Weekly_Sales\". This will be a regression problem because we are determining a value (not class) of data. "
      ],
      "metadata": {
        "id": "TSc7_Nq6RLEI"
      }
    },
    {
      "cell_type": "markdown",
      "source": [
        "# Data Preparation:"
      ],
      "metadata": {
        "id": "rgLU5E2rOXZ0"
      }
    },
    {
      "cell_type": "markdown",
      "source": [
        "Let's first take a look at our data. From the above .head(), it does not appear that we have any unnecessary columns. Let's check for duplicates:"
      ],
      "metadata": {
        "id": "rwe4zf2KOuB3"
      }
    },
    {
      "cell_type": "code",
      "source": [
        "df.duplicated().sum()"
      ],
      "metadata": {
        "colab": {
          "base_uri": "https://localhost:8080/"
        },
        "id": "2qEjrpcrOcZV",
        "outputId": "cc40eb84-9d01-49a0-f934-628f2ce33586"
      },
      "execution_count": 6,
      "outputs": [
        {
          "output_type": "execute_result",
          "data": {
            "text/plain": [
              "0"
            ]
          },
          "metadata": {},
          "execution_count": 6
        }
      ]
    },
    {
      "cell_type": "markdown",
      "source": [
        "There appear to be no duplicates. Let's take a look to see if there are any missing values:"
      ],
      "metadata": {
        "id": "y4V193BBPQbS"
      }
    },
    {
      "cell_type": "code",
      "source": [
        "df.isna().sum()"
      ],
      "metadata": {
        "colab": {
          "base_uri": "https://localhost:8080/"
        },
        "id": "LKcuerbyPVs5",
        "outputId": "77b9609e-2791-452e-ee55-86c34c2cc9c8"
      },
      "execution_count": 7,
      "outputs": [
        {
          "output_type": "execute_result",
          "data": {
            "text/plain": [
              "Store           0\n",
              "Date            0\n",
              "Weekly_Sales    0\n",
              "Holiday_Flag    0\n",
              "Temperature     0\n",
              "Fuel_Price      0\n",
              "CPI             0\n",
              "Unemployment    0\n",
              "dtype: int64"
            ]
          },
          "metadata": {},
          "execution_count": 7
        }
      ]
    },
    {
      "cell_type": "markdown",
      "source": [
        "There are no missing values. Let's check to see if the datatypes seem logical:"
      ],
      "metadata": {
        "id": "nG44Uf5mPYxE"
      }
    },
    {
      "cell_type": "code",
      "source": [
        "df.info()"
      ],
      "metadata": {
        "colab": {
          "base_uri": "https://localhost:8080/"
        },
        "id": "8cZgQH7hPeOF",
        "outputId": "8b818dd5-8441-4d2b-a9b3-07647bb5ced4"
      },
      "execution_count": 8,
      "outputs": [
        {
          "output_type": "stream",
          "name": "stdout",
          "text": [
            "<class 'pandas.core.frame.DataFrame'>\n",
            "RangeIndex: 6435 entries, 0 to 6434\n",
            "Data columns (total 8 columns):\n",
            " #   Column        Non-Null Count  Dtype  \n",
            "---  ------        --------------  -----  \n",
            " 0   Store         6435 non-null   int64  \n",
            " 1   Date          6435 non-null   object \n",
            " 2   Weekly_Sales  6435 non-null   float64\n",
            " 3   Holiday_Flag  6435 non-null   int64  \n",
            " 4   Temperature   6435 non-null   float64\n",
            " 5   Fuel_Price    6435 non-null   float64\n",
            " 6   CPI           6435 non-null   float64\n",
            " 7   Unemployment  6435 non-null   float64\n",
            "dtypes: float64(5), int64(2), object(1)\n",
            "memory usage: 402.3+ KB\n"
          ]
        }
      ]
    },
    {
      "cell_type": "markdown",
      "source": [
        "All data types seem to be logical. Let's check to see if there are any strange numerical datatypes:"
      ],
      "metadata": {
        "id": "Oy54RPlAPi9H"
      }
    },
    {
      "cell_type": "code",
      "source": [
        "df.describe()"
      ],
      "metadata": {
        "colab": {
          "base_uri": "https://localhost:8080/",
          "height": 297
        },
        "id": "Nq_f_wTzPilI",
        "outputId": "2edf9b92-31a9-4b7e-be31-0862f6553585"
      },
      "execution_count": 9,
      "outputs": [
        {
          "output_type": "execute_result",
          "data": {
            "text/plain": [
              "             Store  Weekly_Sales  Holiday_Flag  Temperature   Fuel_Price  \\\n",
              "count  6435.000000  6.435000e+03   6435.000000  6435.000000  6435.000000   \n",
              "mean     23.000000  1.046965e+06      0.069930    60.663782     3.358607   \n",
              "std      12.988182  5.643666e+05      0.255049    18.444933     0.459020   \n",
              "min       1.000000  2.099862e+05      0.000000    -2.060000     2.472000   \n",
              "25%      12.000000  5.533501e+05      0.000000    47.460000     2.933000   \n",
              "50%      23.000000  9.607460e+05      0.000000    62.670000     3.445000   \n",
              "75%      34.000000  1.420159e+06      0.000000    74.940000     3.735000   \n",
              "max      45.000000  3.818686e+06      1.000000   100.140000     4.468000   \n",
              "\n",
              "               CPI  Unemployment  \n",
              "count  6435.000000   6435.000000  \n",
              "mean    171.578394      7.999151  \n",
              "std      39.356712      1.875885  \n",
              "min     126.064000      3.879000  \n",
              "25%     131.735000      6.891000  \n",
              "50%     182.616521      7.874000  \n",
              "75%     212.743293      8.622000  \n",
              "max     227.232807     14.313000  "
            ],
            "text/html": [
              "\n",
              "  <div id=\"df-cfe79940-6d30-4154-a580-d09d88f4509f\">\n",
              "    <div class=\"colab-df-container\">\n",
              "      <div>\n",
              "<style scoped>\n",
              "    .dataframe tbody tr th:only-of-type {\n",
              "        vertical-align: middle;\n",
              "    }\n",
              "\n",
              "    .dataframe tbody tr th {\n",
              "        vertical-align: top;\n",
              "    }\n",
              "\n",
              "    .dataframe thead th {\n",
              "        text-align: right;\n",
              "    }\n",
              "</style>\n",
              "<table border=\"1\" class=\"dataframe\">\n",
              "  <thead>\n",
              "    <tr style=\"text-align: right;\">\n",
              "      <th></th>\n",
              "      <th>Store</th>\n",
              "      <th>Weekly_Sales</th>\n",
              "      <th>Holiday_Flag</th>\n",
              "      <th>Temperature</th>\n",
              "      <th>Fuel_Price</th>\n",
              "      <th>CPI</th>\n",
              "      <th>Unemployment</th>\n",
              "    </tr>\n",
              "  </thead>\n",
              "  <tbody>\n",
              "    <tr>\n",
              "      <th>count</th>\n",
              "      <td>6435.000000</td>\n",
              "      <td>6.435000e+03</td>\n",
              "      <td>6435.000000</td>\n",
              "      <td>6435.000000</td>\n",
              "      <td>6435.000000</td>\n",
              "      <td>6435.000000</td>\n",
              "      <td>6435.000000</td>\n",
              "    </tr>\n",
              "    <tr>\n",
              "      <th>mean</th>\n",
              "      <td>23.000000</td>\n",
              "      <td>1.046965e+06</td>\n",
              "      <td>0.069930</td>\n",
              "      <td>60.663782</td>\n",
              "      <td>3.358607</td>\n",
              "      <td>171.578394</td>\n",
              "      <td>7.999151</td>\n",
              "    </tr>\n",
              "    <tr>\n",
              "      <th>std</th>\n",
              "      <td>12.988182</td>\n",
              "      <td>5.643666e+05</td>\n",
              "      <td>0.255049</td>\n",
              "      <td>18.444933</td>\n",
              "      <td>0.459020</td>\n",
              "      <td>39.356712</td>\n",
              "      <td>1.875885</td>\n",
              "    </tr>\n",
              "    <tr>\n",
              "      <th>min</th>\n",
              "      <td>1.000000</td>\n",
              "      <td>2.099862e+05</td>\n",
              "      <td>0.000000</td>\n",
              "      <td>-2.060000</td>\n",
              "      <td>2.472000</td>\n",
              "      <td>126.064000</td>\n",
              "      <td>3.879000</td>\n",
              "    </tr>\n",
              "    <tr>\n",
              "      <th>25%</th>\n",
              "      <td>12.000000</td>\n",
              "      <td>5.533501e+05</td>\n",
              "      <td>0.000000</td>\n",
              "      <td>47.460000</td>\n",
              "      <td>2.933000</td>\n",
              "      <td>131.735000</td>\n",
              "      <td>6.891000</td>\n",
              "    </tr>\n",
              "    <tr>\n",
              "      <th>50%</th>\n",
              "      <td>23.000000</td>\n",
              "      <td>9.607460e+05</td>\n",
              "      <td>0.000000</td>\n",
              "      <td>62.670000</td>\n",
              "      <td>3.445000</td>\n",
              "      <td>182.616521</td>\n",
              "      <td>7.874000</td>\n",
              "    </tr>\n",
              "    <tr>\n",
              "      <th>75%</th>\n",
              "      <td>34.000000</td>\n",
              "      <td>1.420159e+06</td>\n",
              "      <td>0.000000</td>\n",
              "      <td>74.940000</td>\n",
              "      <td>3.735000</td>\n",
              "      <td>212.743293</td>\n",
              "      <td>8.622000</td>\n",
              "    </tr>\n",
              "    <tr>\n",
              "      <th>max</th>\n",
              "      <td>45.000000</td>\n",
              "      <td>3.818686e+06</td>\n",
              "      <td>1.000000</td>\n",
              "      <td>100.140000</td>\n",
              "      <td>4.468000</td>\n",
              "      <td>227.232807</td>\n",
              "      <td>14.313000</td>\n",
              "    </tr>\n",
              "  </tbody>\n",
              "</table>\n",
              "</div>\n",
              "      <button class=\"colab-df-convert\" onclick=\"convertToInteractive('df-cfe79940-6d30-4154-a580-d09d88f4509f')\"\n",
              "              title=\"Convert this dataframe to an interactive table.\"\n",
              "              style=\"display:none;\">\n",
              "        \n",
              "  <svg xmlns=\"http://www.w3.org/2000/svg\" height=\"24px\"viewBox=\"0 0 24 24\"\n",
              "       width=\"24px\">\n",
              "    <path d=\"M0 0h24v24H0V0z\" fill=\"none\"/>\n",
              "    <path d=\"M18.56 5.44l.94 2.06.94-2.06 2.06-.94-2.06-.94-.94-2.06-.94 2.06-2.06.94zm-11 1L8.5 8.5l.94-2.06 2.06-.94-2.06-.94L8.5 2.5l-.94 2.06-2.06.94zm10 10l.94 2.06.94-2.06 2.06-.94-2.06-.94-.94-2.06-.94 2.06-2.06.94z\"/><path d=\"M17.41 7.96l-1.37-1.37c-.4-.4-.92-.59-1.43-.59-.52 0-1.04.2-1.43.59L10.3 9.45l-7.72 7.72c-.78.78-.78 2.05 0 2.83L4 21.41c.39.39.9.59 1.41.59.51 0 1.02-.2 1.41-.59l7.78-7.78 2.81-2.81c.8-.78.8-2.07 0-2.86zM5.41 20L4 18.59l7.72-7.72 1.47 1.35L5.41 20z\"/>\n",
              "  </svg>\n",
              "      </button>\n",
              "      \n",
              "  <style>\n",
              "    .colab-df-container {\n",
              "      display:flex;\n",
              "      flex-wrap:wrap;\n",
              "      gap: 12px;\n",
              "    }\n",
              "\n",
              "    .colab-df-convert {\n",
              "      background-color: #E8F0FE;\n",
              "      border: none;\n",
              "      border-radius: 50%;\n",
              "      cursor: pointer;\n",
              "      display: none;\n",
              "      fill: #1967D2;\n",
              "      height: 32px;\n",
              "      padding: 0 0 0 0;\n",
              "      width: 32px;\n",
              "    }\n",
              "\n",
              "    .colab-df-convert:hover {\n",
              "      background-color: #E2EBFA;\n",
              "      box-shadow: 0px 1px 2px rgba(60, 64, 67, 0.3), 0px 1px 3px 1px rgba(60, 64, 67, 0.15);\n",
              "      fill: #174EA6;\n",
              "    }\n",
              "\n",
              "    [theme=dark] .colab-df-convert {\n",
              "      background-color: #3B4455;\n",
              "      fill: #D2E3FC;\n",
              "    }\n",
              "\n",
              "    [theme=dark] .colab-df-convert:hover {\n",
              "      background-color: #434B5C;\n",
              "      box-shadow: 0px 1px 3px 1px rgba(0, 0, 0, 0.15);\n",
              "      filter: drop-shadow(0px 1px 2px rgba(0, 0, 0, 0.3));\n",
              "      fill: #FFFFFF;\n",
              "    }\n",
              "  </style>\n",
              "\n",
              "      <script>\n",
              "        const buttonEl =\n",
              "          document.querySelector('#df-cfe79940-6d30-4154-a580-d09d88f4509f button.colab-df-convert');\n",
              "        buttonEl.style.display =\n",
              "          google.colab.kernel.accessAllowed ? 'block' : 'none';\n",
              "\n",
              "        async function convertToInteractive(key) {\n",
              "          const element = document.querySelector('#df-cfe79940-6d30-4154-a580-d09d88f4509f');\n",
              "          const dataTable =\n",
              "            await google.colab.kernel.invokeFunction('convertToInteractive',\n",
              "                                                     [key], {});\n",
              "          if (!dataTable) return;\n",
              "\n",
              "          const docLinkHtml = 'Like what you see? Visit the ' +\n",
              "            '<a target=\"_blank\" href=https://colab.research.google.com/notebooks/data_table.ipynb>data table notebook</a>'\n",
              "            + ' to learn more about interactive tables.';\n",
              "          element.innerHTML = '';\n",
              "          dataTable['output_type'] = 'display_data';\n",
              "          await google.colab.output.renderOutput(dataTable, element);\n",
              "          const docLink = document.createElement('div');\n",
              "          docLink.innerHTML = docLinkHtml;\n",
              "          element.appendChild(docLink);\n",
              "        }\n",
              "      </script>\n",
              "    </div>\n",
              "  </div>\n",
              "  "
            ]
          },
          "metadata": {},
          "execution_count": 9
        }
      ]
    },
    {
      "cell_type": "markdown",
      "source": [
        "All numerical values seem to make sense and are in a normal range. "
      ],
      "metadata": {
        "id": "9hCV7yv0P3dQ"
      }
    },
    {
      "cell_type": "markdown",
      "source": [
        "There do not appear to be many categorical columns. There is only one in fact and that is the date column. "
      ],
      "metadata": {
        "id": "Wz0Gs3JgQGcG"
      }
    },
    {
      "cell_type": "code",
      "source": [
        "df['Date'].value_counts()"
      ],
      "metadata": {
        "colab": {
          "base_uri": "https://localhost:8080/"
        },
        "id": "WEfmJUp0P3HE",
        "outputId": "dfd20ca0-043d-44d0-ae67-ed692703dfd9"
      },
      "execution_count": 10,
      "outputs": [
        {
          "output_type": "execute_result",
          "data": {
            "text/plain": [
              "05-02-2010    45\n",
              "23-12-2011    45\n",
              "11-11-2011    45\n",
              "18-11-2011    45\n",
              "25-11-2011    45\n",
              "              ..\n",
              "07-01-2011    45\n",
              "14-01-2011    45\n",
              "21-01-2011    45\n",
              "28-01-2011    45\n",
              "26-10-2012    45\n",
              "Name: Date, Length: 143, dtype: int64"
            ]
          },
          "metadata": {},
          "execution_count": 10
        }
      ]
    },
    {
      "cell_type": "markdown",
      "source": [
        "When we look at a quick snapshot of all of the dates using value_counts, we don't notice any major inconsistancies. The dates appear to be in order, in the range given, and without any typos so we will assume that the data is clean and ready for further modification. "
      ],
      "metadata": {
        "id": "03HhL2CgQUI4"
      }
    },
    {
      "cell_type": "markdown",
      "source": [
        "# Data Exploration"
      ],
      "metadata": {
        "id": "Ai9BugVCRCTo"
      }
    },
    {
      "cell_type": "markdown",
      "source": [
        "Let's explore the data visually in univariate visualizations:"
      ],
      "metadata": {
        "id": "UfwqnK1uRFQz"
      }
    },
    {
      "cell_type": "markdown",
      "source": [
        "Let's first take a look at the distribution of weekly sales:"
      ],
      "metadata": {
        "id": "kb4Avl0PRoKn"
      }
    },
    {
      "cell_type": "code",
      "source": [
        "df['Weekly_Sales'].hist();\n",
        "plt.xlabel('Weekly Sales');\n",
        "plt.ylabel('Counts');"
      ],
      "metadata": {
        "colab": {
          "base_uri": "https://localhost:8080/",
          "height": 279
        },
        "id": "g1GsQA4IQtdL",
        "outputId": "dc26977e-b257-4ae1-861c-e2b38f3219f5"
      },
      "execution_count": 11,
      "outputs": [
        {
          "output_type": "display_data",
          "data": {
            "text/plain": [
              "<Figure size 432x288 with 1 Axes>"
            ],
            "image/png": "[encoded data removed]"
          },
          "metadata": {
            "needs_background": "light"
          }
        }
      ]
    },
    {
      "cell_type": "markdown",
      "source": [
        "From here we see that the majority of weekly sales range from around 250,000 to 1.25 million dollars. We can therefore assume that most of our predictions would also lie in this range. "
      ],
      "metadata": {
        "id": "9H4EECrJSKTA"
      }
    },
    {
      "cell_type": "markdown",
      "source": [
        "Let's see how prevalent holidays are in our data:"
      ],
      "metadata": {
        "id": "2HKsmrdnSr2V"
      }
    },
    {
      "cell_type": "code",
      "source": [
        "sns.countplot(x = 'Holiday_Flag', data = df);\n",
        "## taken from: https://seaborn.pydata.org/generated/seaborn.countplot.html#seaborn.countplot"
      ],
      "metadata": {
        "colab": {
          "base_uri": "https://localhost:8080/",
          "height": 280
        },
        "id": "tD5lvC4YS9iO",
        "outputId": "59d41ce5-e5a1-4e1e-c8c2-9340bd5c846f"
      },
      "execution_count": 12,
      "outputs": [
        {
          "output_type": "display_data",
          "data": {
            "text/plain": [
              "<Figure size 432x288 with 1 Axes>"
            ],
            "image/png": "[encoded data removed]"
          },
          "metadata": {
            "needs_background": "light"
          }
        }
      ]
    },
    {
      "cell_type": "markdown",
      "source": [
        "Here we see that only a very small amount of the days in our data account for holidays. There could be a correlation between these days and the few weeks in our data where sales were above 2 million dollars in a store. "
      ],
      "metadata": {
        "id": "3LAzJrbuTFK1"
      }
    },
    {
      "cell_type": "markdown",
      "source": [
        "Let's check out our temperature ranges using a boxplot:"
      ],
      "metadata": {
        "id": "FxpHpjnCTdo_"
      }
    },
    {
      "cell_type": "code",
      "source": [
        "sns.boxplot(x = df[\"Temperature\"]);"
      ],
      "metadata": {
        "colab": {
          "base_uri": "https://localhost:8080/",
          "height": 279
        },
        "id": "cR60ChZOUAP0",
        "outputId": "b4460fb2-9c8f-4fdd-c047-36ba271a1402"
      },
      "execution_count": 13,
      "outputs": [
        {
          "output_type": "display_data",
          "data": {
            "text/plain": [
              "<Figure size 432x288 with 1 Axes>"
            ],
            "image/png": "[encoded data removed]"
          },
          "metadata": {
            "needs_background": "light"
          }
        }
      ]
    },
    {
      "cell_type": "markdown",
      "source": [
        "Here we see that most of our weeks, the temperature was in the range between 40 and 80 degrees farenheit with a few outliers (below 5 degrees farenheit). There could be a correlation sales and how hot or cold the week was (if it affected the sales positively or negatively). "
      ],
      "metadata": {
        "id": "G3vltNx-UtOp"
      }
    },
    {
      "cell_type": "markdown",
      "source": [
        "Let's do the same boxplot for our fuel prices:"
      ],
      "metadata": {
        "id": "bk077IJEVFbZ"
      }
    },
    {
      "cell_type": "code",
      "source": [
        "sns.boxplot(x = df[\"Fuel_Price\"]);"
      ],
      "metadata": {
        "colab": {
          "base_uri": "https://localhost:8080/",
          "height": 280
        },
        "id": "4Wd_dE63VLt-",
        "outputId": "516477e3-c11a-47be-fee8-8aedbb01f177"
      },
      "execution_count": 14,
      "outputs": [
        {
          "output_type": "display_data",
          "data": {
            "text/plain": [
              "<Figure size 432x288 with 1 Axes>"
            ],
            "image/png": "[encoded data removed]"
          },
          "metadata": {
            "needs_background": "light"
          }
        }
      ]
    },
    {
      "cell_type": "markdown",
      "source": [
        "Here there do not appear to be any noticeable outliers and the majority of fuel prices do appear to lie in a very small range between $2.75 per gallon and $3.75 per gallon. There could be lower sales in store areas where the price was above the $4.00 mark and that would be interesting to dive into a little deeper. "
      ],
      "metadata": {
        "id": "XCCW3ef8VRr9"
      }
    },
    {
      "cell_type": "markdown",
      "source": [
        "Let's check out the unemployment rate:"
      ],
      "metadata": {
        "id": "Y6RzZWZCVtTl"
      }
    },
    {
      "cell_type": "code",
      "source": [
        "sns.boxplot(x = df[\"Unemployment\"]);"
      ],
      "metadata": {
        "colab": {
          "base_uri": "https://localhost:8080/",
          "height": 279
        },
        "id": "7BO3iZL6V8cq",
        "outputId": "1e73e047-5cb3-42de-e987-25e7229822d9"
      },
      "execution_count": 15,
      "outputs": [
        {
          "output_type": "display_data",
          "data": {
            "text/plain": [
              "<Figure size 432x288 with 1 Axes>"
            ],
            "image/png": "[encoded data removed]"
          },
          "metadata": {
            "needs_background": "light"
          }
        }
      ]
    },
    {
      "cell_type": "markdown",
      "source": [
        "Here we find that mostly the unemployment rate would range between 5 and 11%. Anything below and above that range could potentially have a significant impact on weekly sales as it shows whether or not people have more money to purchase items or not. "
      ],
      "metadata": {
        "id": "fzSPofxmWCXi"
      }
    },
    {
      "cell_type": "markdown",
      "source": [
        "We can further investigate this by examining the Consumer Price Index:"
      ],
      "metadata": {
        "id": "NW887UmUWUTq"
      }
    },
    {
      "cell_type": "code",
      "source": [
        "sns.boxplot(x = df[\"CPI\"]);"
      ],
      "metadata": {
        "colab": {
          "base_uri": "https://localhost:8080/",
          "height": 279
        },
        "id": "LmmktdmJWZjz",
        "outputId": "d0e7ad95-721e-4678-c174-a28a11b9e569"
      },
      "execution_count": 16,
      "outputs": [
        {
          "output_type": "display_data",
          "data": {
            "text/plain": [
              "<Figure size 432x288 with 1 Axes>"
            ],
            "image/png": "[encoded data removed]"
          },
          "metadata": {
            "needs_background": "light"
          }
        }
      ]
    },
    {
      "cell_type": "markdown",
      "source": [
        "The CPI appears to have remained largely stable so I don't believe it will have as large of an impact on our weekly sale predictions. I think unemployment rate may be more telling for our project. "
      ],
      "metadata": {
        "id": "pN6F2SO0Wgah"
      }
    },
    {
      "cell_type": "markdown",
      "source": [
        "Let's have an overview of all factors using a correlation heat map:"
      ],
      "metadata": {
        "id": "A_QOqPIQWtde"
      }
    },
    {
      "cell_type": "code",
      "source": [
        "corr = df.corr()\n",
        "sns.heatmap(corr, cmap = 'Greens', annot = True);"
      ],
      "metadata": {
        "colab": {
          "base_uri": "https://localhost:8080/",
          "height": 336
        },
        "id": "KmFGZaIyWxpP",
        "outputId": "3d277738-051f-45ed-ce66-4422c247036e"
      },
      "execution_count": 19,
      "outputs": [
        {
          "output_type": "display_data",
          "data": {
            "text/plain": [
              "<Figure size 432x288 with 2 Axes>"
            ],
            "image/png": "[encoded data removed]"
          },
          "metadata": {
            "needs_background": "light"
          }
        }
      ]
    },
    {
      "cell_type": "markdown",
      "source": [
        "From our heatmap it is hard to find any definitive correlations between certain data factors and Weekly_Sales. The only values that do seem to be playing a slightly bigger role are Holiday_FLag and Fuel_Price which does make sense if we think of when shoppers would be out to spend more money."
      ],
      "metadata": {
        "id": "URtH8-AbW93T"
      }
    },
    {
      "cell_type": "markdown",
      "source": [
        "There does seem to be a strong correlation between unemployment and the store associated with but that is also very logical as some stores are located in poorer neighborhoods (higher unemployment) and others in neighborhoods that are wealthier with lower unemployment. "
      ],
      "metadata": {
        "id": "ob-yRNarXY2A"
      }
    },
    {
      "cell_type": "markdown",
      "source": [
        "Let's take a look at weeks with holidays and sales for that week:"
      ],
      "metadata": {
        "id": "g5-rez4a27Nk"
      }
    },
    {
      "cell_type": "code",
      "source": [
        "sns.barplot(data = df, x = 'Holiday_Flag', y = 'Weekly_Sales');"
      ],
      "metadata": {
        "colab": {
          "base_uri": "https://localhost:8080/",
          "height": 291
        },
        "id": "HJd7nXb93OCZ",
        "outputId": "6ba084b2-2274-42cf-de27-53aa7e0b54da"
      },
      "execution_count": 24,
      "outputs": [
        {
          "output_type": "display_data",
          "data": {
            "text/plain": [
              "<Figure size 432x288 with 1 Axes>"
            ],
            "image/png": "[encoded data removed]"
          },
          "metadata": {
            "needs_background": "light"
          }
        }
      ]
    },
    {
      "cell_type": "markdown",
      "source": [
        "As we can see above, the weeks with holidays do appear to have higher sales numbers than those without. The difference is not huge, but big enough to be of interest to our company. This shows that when predicting sales or even demand in the future, we can expect 10-20% more in sales for that week. "
      ],
      "metadata": {
        "id": "R-H8hud74NjT"
      }
    },
    {
      "cell_type": "markdown",
      "source": [
        "Let's also take a look at the unemployment correlation with particular stores (as it was our highest correlation factor):"
      ],
      "metadata": {
        "id": "s6iCEtJ54m4L"
      }
    },
    {
      "cell_type": "code",
      "source": [
        "sns.barplot(data = df, x = 'Store', y = 'Unemployment');\n",
        "sns.set(rc = {'figure.figsize':(40,20)})"
      ],
      "metadata": {
        "colab": {
          "base_uri": "https://localhost:8080/",
          "height": 667
        },
        "id": "_cpsnABa8Ptz",
        "outputId": "49e46a4b-69d0-431e-adc1-de01818a6417"
      },
      "execution_count": 36,
      "outputs": [
        {
          "output_type": "display_data",
          "data": {
            "text/plain": [
              "<Figure size 2880x1440 with 1 Axes>"
            ],
            "image/png": "[encoded data removed]"
          },
          "metadata": {}
        }
      ]
    },
    {
      "cell_type": "markdown",
      "source": [
        "From the graph above we can see that stores 12, 28, and 38 seem to have the highest level of unemployment in the area they are located in. This could have an effect on sales. Let's dive deeper:"
      ],
      "metadata": {
        "id": "rr7faVTn8aI8"
      }
    },
    {
      "cell_type": "code",
      "source": [
        "sns.barplot(data = df, x = 'Store', y = 'Weekly_Sales');\n",
        "sns.set(rc = {'figure.figsize':(40,20)})\n",
        "sns.set(font_scale=10)"
      ],
      "metadata": {
        "colab": {
          "base_uri": "https://localhost:8080/",
          "height": 682
        },
        "id": "G5Xq_gPi6gJC",
        "outputId": "ac910846-a48b-4949-a06e-bb1e9cc4cff3"
      },
      "execution_count": 33,
      "outputs": [
        {
          "output_type": "display_data",
          "data": {
            "text/plain": [
              "<Figure size 2880x1440 with 1 Axes>"
            ],
            "image/png": "[encoded data removed]"
          },
          "metadata": {}
        }
      ]
    },
    {
      "cell_type": "markdown",
      "source": [
        "In the graph above we see that stores with higher unemployment actually do seem to be performing very well. And that stores with relatively low unemployment (store 5 for example seem to be performing rather poorly. This list of poor performers might be of interest to our company. It is also interesting to note that poorer or lower income (i.e. employment) neighborhoods tend to perform better for Walmart. This would be important information for future planning. And could give us a good idea of what stores to invest in and, potentially, which ones to consider closing."
      ],
      "metadata": {
        "id": "LG3TcLwJ7Z8h"
      }
    }
  ]
}